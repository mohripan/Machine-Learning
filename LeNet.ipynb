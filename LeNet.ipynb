{
  "nbformat": 4,
  "nbformat_minor": 0,
  "metadata": {
    "colab": {
      "name": "LeNet.ipynb",
      "provenance": [],
      "collapsed_sections": [],
      "authorship_tag": "ABX9TyMXUxI4dF6TwBLfPiwWbO8e",
      "include_colab_link": true
    },
    "kernelspec": {
      "name": "python3",
      "display_name": "Python 3"
    },
    "language_info": {
      "name": "python"
    },
    "accelerator": "GPU"
  },
  "cells": [
    {
      "cell_type": "markdown",
      "metadata": {
        "id": "view-in-github",
        "colab_type": "text"
      },
      "source": [
        "<a href=\"https://colab.research.google.com/github/mohripan/Machine-Learning/blob/main/LeNet.ipynb\" target=\"_parent\"><img src=\"https://colab.research.google.com/assets/colab-badge.svg\" alt=\"Open In Colab\"/></a>"
      ]
    },
    {
      "cell_type": "code",
      "metadata": {
        "id": "LXDdePbTGPvD"
      },
      "source": [
        "import torch\n",
        "import torch.nn as nn\n",
        "import torch.nn.functional as F\n",
        "import torch.optim as optim\n",
        "import torchvision\n",
        "import torchvision.transforms as transforms\n",
        "import albumentations as A\n",
        "from albumentations.pytorch.transforms import ToTensor\n",
        "from torch.utils.data import DataLoader"
      ],
      "execution_count": 32,
      "outputs": []
    },
    {
      "cell_type": "code",
      "metadata": {
        "id": "csXWPbE2GpmQ"
      },
      "source": [
        "class LeNet(nn.Module):\n",
        "  def __init__(self):\n",
        "    super(LeNet, self).__init__()\n",
        "    self.relu = nn.ReLU()\n",
        "    self.pool = nn.AvgPool2d(kernel_size=(2, 2), stride=(2, 2))\n",
        "    self.conv1 = nn.Conv2d(1, 6, kernel_size=(5,5), stride=(1, 1), padding=(0,0))\n",
        "    self.conv2 = nn.Conv2d(6, 16, kernel_size=(5,5), stride=(1, 1), padding=(0,0))\n",
        "    self.conv3 = nn.Conv2d(16, 120, kernel_size=(5,5), stride=(1, 1), padding=(0,0))\n",
        "    self.fc1 = nn.Linear(120, 84)\n",
        "    self.fc2 = nn.Linear(84, 10)\n",
        "\n",
        "  def forward(self, X):\n",
        "    X = self.relu(self.conv1(X))\n",
        "    X = self.pool(X)\n",
        "    X = self.relu(self.conv2(X))\n",
        "    X = self.pool(X)\n",
        "    X = self.relu(self.conv3(X))\n",
        "    X = X.reshape(X.shape[0], -1)\n",
        "    X = self.relu(self.fc1(X))\n",
        "    X = self.fc2(X)\n",
        "    return X"
      ],
      "execution_count": 33,
      "outputs": []
    },
    {
      "cell_type": "code",
      "metadata": {
        "id": "xG_Hys6_HxK-"
      },
      "source": [
        "transform = transforms.Compose([\n",
        "                       transforms.Pad(padding=2),\n",
        "                       transforms.ToTensor()\n",
        "])\n",
        "train_dataset = torchvision.datasets.MNIST(root='./dataset', transform=transform, train=True, download=True)\n",
        "train_loader = DataLoader(train_dataset, batch_size=4, shuffle=True)\n",
        "test_dataset = torchvision.datasets.MNIST(root='./dataset',\n",
        "                                          transform=transform,\n",
        "                                          train=False,\n",
        "                                          download=True)\n",
        "test_loader = DataLoader(test_dataset, batch_size=4, shuffle=False)"
      ],
      "execution_count": 34,
      "outputs": []
    },
    {
      "cell_type": "code",
      "metadata": {
        "id": "k4ncUJDtI5vJ"
      },
      "source": [
        "device = torch.device('cuda' if torch.cuda.is_available() else 'cpu')\n",
        "model = LeNet().to(device)"
      ],
      "execution_count": 35,
      "outputs": []
    },
    {
      "cell_type": "code",
      "metadata": {
        "colab": {
          "base_uri": "https://localhost:8080/"
        },
        "id": "ef8W69ZJKstN",
        "outputId": "7d0617d8-5c59-43b6-da9b-c6416a66eafa"
      },
      "source": [
        "!pip install madgrad"
      ],
      "execution_count": 36,
      "outputs": [
        {
          "output_type": "stream",
          "text": [
            "Requirement already satisfied: madgrad in /usr/local/lib/python3.7/dist-packages (1.1)\n"
          ],
          "name": "stdout"
        }
      ]
    },
    {
      "cell_type": "code",
      "metadata": {
        "id": "IgRRRyQ_Ku-I"
      },
      "source": [
        "from madgrad import MADGRAD"
      ],
      "execution_count": 37,
      "outputs": []
    },
    {
      "cell_type": "code",
      "metadata": {
        "id": "7Kur1oJvKygB"
      },
      "source": [
        "criterion = nn.CrossEntropyLoss()\n",
        "optimizer = MADGRAD(model.parameters(), lr=0.0001)"
      ],
      "execution_count": 38,
      "outputs": []
    },
    {
      "cell_type": "code",
      "metadata": {
        "id": "RfSUtOG6LH5R"
      },
      "source": [
        "import numpy as np\n",
        "import matplotlib.pyplot as plt"
      ],
      "execution_count": 39,
      "outputs": []
    },
    {
      "cell_type": "code",
      "metadata": {
        "colab": {
          "base_uri": "https://localhost:8080/"
        },
        "id": "SpDSg4-qLKt_",
        "outputId": "d270381e-c699-4d73-8093-b546a11d3e88"
      },
      "source": [
        "num_epochs = 10\n",
        "train_losses = np.zeros(num_epochs)\n",
        "test_losses = np.zeros(num_epochs)\n",
        "\n",
        "model.train()\n",
        "for i in range(num_epochs):\n",
        "  train_loss = []\n",
        "  for idx, (data, target) in enumerate(train_loader):\n",
        "    optimizer.zero_grad()\n",
        "    data, target = data.to(device), target.to(device)\n",
        "\n",
        "    score = model(data)\n",
        "    loss = criterion(score, target)\n",
        "\n",
        "    loss.backward()\n",
        "    optimizer.step()\n",
        "\n",
        "    train_loss.append(loss.item())\n",
        "\n",
        "  train_loss = np.mean(train_loss)\n",
        "\n",
        "  test_loss = []\n",
        "\n",
        "  for idx, (data, target) in enumerate(test_loader):\n",
        "    data, target = data.to(device), target.to(device)\n",
        "\n",
        "    score = model(data)\n",
        "    loss = criterion(score, target)\n",
        "\n",
        "    test_loss.append(loss.item())\n",
        "\n",
        "  test_loss = np.mean(test_loss)\n",
        "\n",
        "  train_losses[i] = train_loss\n",
        "  test_losses[i] = test_loss\n",
        "\n",
        "  print(f'Train Loss: {train_loss:.4f}, Test Loss: {test_loss:.4f}')"
      ],
      "execution_count": 40,
      "outputs": [
        {
          "output_type": "stream",
          "text": [
            "Train Loss: 0.2306, Test Loss: 0.0891\n",
            "Train Loss: 0.0704, Test Loss: 0.0896\n",
            "Train Loss: 0.0492, Test Loss: 0.0425\n",
            "Train Loss: 0.0382, Test Loss: 0.0366\n",
            "Train Loss: 0.0308, Test Loss: 0.0366\n",
            "Train Loss: 0.0273, Test Loss: 0.0294\n",
            "Train Loss: 0.0217, Test Loss: 0.0441\n",
            "Train Loss: 0.0209, Test Loss: 0.0409\n",
            "Train Loss: 0.0178, Test Loss: 0.0361\n",
            "Train Loss: 0.0149, Test Loss: 0.0356\n"
          ],
          "name": "stdout"
        }
      ]
    },
    {
      "cell_type": "code",
      "metadata": {
        "colab": {
          "base_uri": "https://localhost:8080/",
          "height": 265
        },
        "id": "srx8H2DVL6hs",
        "outputId": "35a4a8d0-bace-4c9d-8b2a-3ac62ac058d7"
      },
      "source": [
        "plt.plot(train_losses, label='Train Losses')\n",
        "plt.plot(test_losses, label='Test Losses')\n",
        "plt.show()"
      ],
      "execution_count": 41,
      "outputs": [
        {
          "output_type": "display_data",
          "data": {
            "image/png": "[encoded data removed]",
            "text/plain": [
              "<Figure size 432x288 with 1 Axes>"
            ]
          },
          "metadata": {
            "tags": [],
            "needs_background": "light"
          }
        }
      ]
    },
    {
      "cell_type": "code",
      "metadata": {
        "id": "B74pPq1ISsxt"
      },
      "source": [
        ""
      ],
      "execution_count": null,
      "outputs": []
    }
  ]
}