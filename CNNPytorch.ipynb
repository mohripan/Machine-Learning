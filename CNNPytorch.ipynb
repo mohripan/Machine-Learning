{
  "nbformat": 4,
  "nbformat_minor": 0,
  "metadata": {
    "colab": {
      "name": "CNNPytorch.ipynb",
      "provenance": [],
      "authorship_tag": "ABX9TyNdW+/BDMSe1apUQl9FDJAV",
      "include_colab_link": true
    },
    "kernelspec": {
      "name": "python3",
      "display_name": "Python 3"
    },
    "language_info": {
      "name": "python"
    },
    "accelerator": "GPU"
  },
  "cells": [
    {
      "cell_type": "markdown",
      "metadata": {
        "id": "view-in-github",
        "colab_type": "text"
      },
      "source": [
        "<a href=\"https://colab.research.google.com/github/mohripan/Machine-Learning/blob/main/CNNPytorch.ipynb\" target=\"_parent\"><img src=\"https://colab.research.google.com/assets/colab-badge.svg\" alt=\"Open In Colab\"/></a>"
      ]
    },
    {
      "cell_type": "code",
      "metadata": {
        "id": "3eKR6fT-9lD9"
      },
      "source": [
        "import numpy as np\n",
        "import torch\n",
        "import torch.nn as nn\n",
        "import torch.nn.functional as F\n",
        "import torchvision\n",
        "import torchvision.transforms as transforms\n",
        "from torch.utils.data import DataLoader\n",
        "from torchvision import datasets\n",
        "from torch import optim"
      ],
      "execution_count": 23,
      "outputs": []
    },
    {
      "cell_type": "code",
      "metadata": {
        "id": "P5V6EvfXCwSZ"
      },
      "source": [
        "class CNN(nn.Module):\n",
        "  def __init__(self, in_channels = 1, num_classes = 10):\n",
        "    super(CNN, self).__init__()\n",
        "    self.conv1 = nn.Conv2d(in_channels=in_channels, out_channels=8, kernel_size=(3, 3), stride=(1, 1), padding=(1, 1))\n",
        "    self.pool = nn.MaxPool2d(kernel_size=(2, 2), stride=(2, 2))\n",
        "    self.conv2 = nn.Conv2d(in_channels=8, out_channels=16, kernel_size=(3, 3), stride=(1, 1), padding=(1, 1))\n",
        "    self.flatten = nn.Flatten()\n",
        "    self.fc1 = nn.Linear(16*7*7, num_classes)\n",
        "\n",
        "  def forward(self, X):\n",
        "    X = F.relu(self.conv1(X))\n",
        "    X = self.pool(X)\n",
        "    X = F.relu(self.conv2(X))\n",
        "    X = self.pool(X)\n",
        "    X = self.flatten(X)\n",
        "    X = self.fc1(X)\n",
        "\n",
        "    return X"
      ],
      "execution_count": 24,
      "outputs": []
    },
    {
      "cell_type": "code",
      "metadata": {
        "id": "Bm8-YE6WEW0O"
      },
      "source": [
        "device = torch.device('cuda' if torch.cuda.is_available() else 'cpu')"
      ],
      "execution_count": 25,
      "outputs": []
    },
    {
      "cell_type": "code",
      "metadata": {
        "id": "i67GVMvUEfHR"
      },
      "source": [
        "model = CNN().to(device)"
      ],
      "execution_count": 26,
      "outputs": []
    },
    {
      "cell_type": "code",
      "metadata": {
        "id": "Hqiv9I0lE4oh"
      },
      "source": [
        "num_epochs = 10\n",
        "learning_rate = 0.001\n",
        "batch_size = 32\n",
        "in_channels = 1"
      ],
      "execution_count": 27,
      "outputs": []
    },
    {
      "cell_type": "code",
      "metadata": {
        "id": "xRvpSZlxEuqu"
      },
      "source": [
        "criterion = nn.CrossEntropyLoss()\n",
        "optimizer = optim.Adam(model.parameters(), lr=learning_rate)"
      ],
      "execution_count": 28,
      "outputs": []
    },
    {
      "cell_type": "code",
      "metadata": {
        "id": "kbGXQ2JJFJOk"
      },
      "source": [
        "train_dataset = datasets.MNIST(root='dataset/', transform=transforms.ToTensor(), train=True, download=True)\n",
        "test_dataset = datasets.MNIST(root='dataset/', transform=transforms.ToTensor(), train=False, download=True)\n",
        "train_loader = DataLoader(train_dataset, batch_size=batch_size, shuffle=True)\n",
        "test_loader = DataLoader(test_dataset, batch_size=batch_size, shuffle=False)"
      ],
      "execution_count": 29,
      "outputs": []
    },
    {
      "cell_type": "code",
      "metadata": {
        "colab": {
          "base_uri": "https://localhost:8080/"
        },
        "id": "HBHEKlQeFkiL",
        "outputId": "4314cb66-29cd-43fb-a04a-587271197df1"
      },
      "source": [
        "train_losses = np.zeros(num_epochs)\n",
        "test_losses = np.zeros(num_epochs)\n",
        "\n",
        "acc = 0\n",
        "val_acc = 0\n",
        "\n",
        "for i in range(num_epochs):\n",
        "  train_loss = []\n",
        "\n",
        "  num_correct = 0\n",
        "  num_samples = 0\n",
        "  model.eval()\n",
        "\n",
        "  for batch_idx, (data, targets) in enumerate(train_loader):\n",
        "    optimizer.zero_grad()\n",
        "\n",
        "    data, targets = data.to(device), targets.to(device)\n",
        "\n",
        "    score = model(data)\n",
        "    loss = criterion(score, targets)\n",
        "\n",
        "    _, predictions = score.max(1)\n",
        "    num_correct += (predictions == targets).sum()\n",
        "    num_samples += predictions.size(0)\n",
        "\n",
        "    train_loss.append(loss.item())\n",
        "\n",
        "    loss.backward()\n",
        "    optimizer.step()\n",
        "\n",
        "  train_loss = np.mean(train_loss)\n",
        "  acc = float(num_correct)/float(num_samples)\n",
        "\n",
        "  test_loss = []\n",
        "\n",
        "  num_correct = 0\n",
        "  num_samples = 0\n",
        "  model.eval()\n",
        "\n",
        "  with torch.no_grad():\n",
        "    for batch_idx, (data, targets) in enumerate(test_loader):\n",
        "      data, targets = data.to(device), targets.to(device)\n",
        "\n",
        "      score = model(data)\n",
        "      loss = criterion(score, targets)\n",
        "\n",
        "      test_loss.append(loss.item())\n",
        "\n",
        "      _, predictions = score.max(1)\n",
        "      num_correct += (predictions == targets).sum()\n",
        "      num_samples += predictions.size(0)\n",
        "\n",
        "    val_acc = float(num_correct)/float(num_samples)\n",
        "    test_loss = np.mean(test_loss)\n",
        "\n",
        "  train_losses[i] = train_loss\n",
        "  test_losses[i] = test_loss\n",
        "\n",
        "  print(f'Epochs: {i+1}/{num_epochs}, train loss: {train_loss}, acc: {acc}, test loss: {test_loss}, val_acc: {val_acc}')"
      ],
      "execution_count": 30,
      "outputs": [
        {
          "output_type": "stream",
          "text": [
            "Epochs: 1/10, train loss: 0.2555241099320352, acc: 0.92355, test loss: 0.08202963018884359, val_acc: 0.9727\n",
            "Epochs: 2/10, train loss: 0.08051386784818024, acc: 0.97615, test loss: 0.06635032944905106, val_acc: 0.9765\n",
            "Epochs: 3/10, train loss: 0.062717707460622, acc: 0.9808833333333333, test loss: 0.05217995121442793, val_acc: 0.9823\n",
            "Epochs: 4/10, train loss: 0.052443864489160476, acc: 0.98395, test loss: 0.04951922225652165, val_acc: 0.9839\n",
            "Epochs: 5/10, train loss: 0.04584963718632547, acc: 0.98585, test loss: 0.05033429055231082, val_acc: 0.9836\n",
            "Epochs: 6/10, train loss: 0.04005592383067123, acc: 0.9876666666666667, test loss: 0.04420887988067733, val_acc: 0.9856\n",
            "Epochs: 7/10, train loss: 0.035790157899524395, acc: 0.9889166666666667, test loss: 0.04628254185379007, val_acc: 0.9842\n",
            "Epochs: 8/10, train loss: 0.032641834849080384, acc: 0.98975, test loss: 0.04601999362865044, val_acc: 0.9845\n",
            "Epochs: 9/10, train loss: 0.029270561724687772, acc: 0.99105, test loss: 0.04956345449080198, val_acc: 0.9831\n",
            "Epochs: 10/10, train loss: 0.026546907105477295, acc: 0.9916333333333334, test loss: 0.042786116023891894, val_acc: 0.9857\n"
          ],
          "name": "stdout"
        }
      ]
    },
    {
      "cell_type": "code",
      "metadata": {
        "id": "9Dzys50PIuQg"
      },
      "source": [
        "import matplotlib.pyplot as plt"
      ],
      "execution_count": 32,
      "outputs": []
    },
    {
      "cell_type": "code",
      "metadata": {
        "colab": {
          "base_uri": "https://localhost:8080/",
          "height": 282
        },
        "id": "qSRoiPC_Hzhq",
        "outputId": "fa2b24c7-adc5-4fdc-96c9-a32c1b99a62b"
      },
      "source": [
        "plt.plot(train_losses, label='Train Loss')\n",
        "plt.plot(test_losses, label='Test Loss')\n",
        "plt.legend()"
      ],
      "execution_count": 33,
      "outputs": [
        {
          "output_type": "execute_result",
          "data": {
            "text/plain": [
              "<matplotlib.legend.Legend at 0x7f87053eedd0>"
            ]
          },
          "metadata": {
            "tags": []
          },
          "execution_count": 33
        },
        {
          "output_type": "display_data",
          "data": {
            "image/png": "[encoded data removed]",
            "text/plain": [
              "<Figure size 432x288 with 1 Axes>"
            ]
          },
          "metadata": {
            "tags": [],
            "needs_background": "light"
          }
        }
      ]
    },
    {
      "cell_type": "code",
      "metadata": {
        "id": "rYZr-_-IIsfj"
      },
      "source": [
        ""
      ],
      "execution_count": null,
      "outputs": []
    }
  ]
}