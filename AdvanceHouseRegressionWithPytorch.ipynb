{
  "nbformat": 4,
  "nbformat_minor": 0,
  "metadata": {
    "colab": {
      "name": "AdvanceHouseRegressionWithPytorch.ipynb",
      "provenance": [],
      "authorship_tag": "ABX9TyPoznpZM4d/F++ZKVRL7qhv",
      "include_colab_link": true
    },
    "kernelspec": {
      "name": "python3",
      "display_name": "Python 3"
    },
    "language_info": {
      "name": "python"
    },
    "accelerator": "GPU"
  },
  "cells": [
    {
      "cell_type": "markdown",
      "metadata": {
        "id": "view-in-github",
        "colab_type": "text"
      },
      "source": [
        "<a href=\"https://colab.research.google.com/github/mohripan/Machine-Learning/blob/main/AdvanceHouseRegressionWithPytorch.ipynb\" target=\"_parent\"><img src=\"https://colab.research.google.com/assets/colab-badge.svg\" alt=\"Open In Colab\"/></a>"
      ]
    },
    {
      "cell_type": "code",
      "metadata": {
        "id": "6T09x2MDBI5z"
      },
      "source": [
        "import torch\n",
        "import torch.nn as nn\n",
        "import torch.optim as optim\n",
        "import torch.nn.functional as F\n",
        "from torch.utils.data import Dataset\n",
        "from torch.utils.data import DataLoader\n",
        "\n",
        "import numpy as np\n",
        "import matplotlib.pyplot as plt\n",
        "import pandas as pd\n",
        "import seaborn as sns\n",
        "\n",
        "from sklearn.preprocessing import StandardScaler\n",
        "from sklearn.preprocessing import RobustScaler\n",
        "from sklearn.model_selection import train_test_split"
      ],
      "execution_count": 113,
      "outputs": []
    },
    {
      "cell_type": "code",
      "metadata": {
        "id": "8vVHSDjVCuHn"
      },
      "source": [
        "train = pd.read_csv('https://raw.githubusercontent.com/mohripan/Machine-Learning/main/House%20Prediction%20Advanced/train.csv')\n",
        "test = pd.read_csv('https://raw.githubusercontent.com/mohripan/Machine-Learning/main/House%20Prediction%20Advanced/test.csv')\n",
        "\n",
        "df = pd.concat([train, test])"
      ],
      "execution_count": 114,
      "outputs": []
    },
    {
      "cell_type": "code",
      "metadata": {
        "colab": {
          "base_uri": "https://localhost:8080/"
        },
        "id": "bfOlBy-_DEfg",
        "outputId": "88b1d286-9d5d-4663-c5da-3c29ae1ec487"
      },
      "source": [
        "df.info()"
      ],
      "execution_count": 115,
      "outputs": [
        {
          "output_type": "stream",
          "name": "stdout",
          "text": [
            "<class 'pandas.core.frame.DataFrame'>\n",
            "Int64Index: 2919 entries, 0 to 1458\n",
            "Data columns (total 81 columns):\n",
            " #   Column         Non-Null Count  Dtype  \n",
            "---  ------         --------------  -----  \n",
            " 0   Id             2919 non-null   int64  \n",
            " 1   MSSubClass     2919 non-null   int64  \n",
            " 2   MSZoning       2915 non-null   object \n",
            " 3   LotFrontage    2433 non-null   float64\n",
            " 4   LotArea        2919 non-null   int64  \n",
            " 5   Street         2919 non-null   object \n",
            " 6   Alley          198 non-null    object \n",
            " 7   LotShape       2919 non-null   object \n",
            " 8   LandContour    2919 non-null   object \n",
            " 9   Utilities      2917 non-null   object \n",
            " 10  LotConfig      2919 non-null   object \n",
            " 11  LandSlope      2919 non-null   object \n",
            " 12  Neighborhood   2919 non-null   object \n",
            " 13  Condition1     2919 non-null   object \n",
            " 14  Condition2     2919 non-null   object \n",
            " 15  BldgType       2919 non-null   object \n",
            " 16  HouseStyle     2919 non-null   object \n",
            " 17  OverallQual    2919 non-null   int64  \n",
            " 18  OverallCond    2919 non-null   int64  \n",
            " 19  YearBuilt      2919 non-null   int64  \n",
            " 20  YearRemodAdd   2919 non-null   int64  \n",
            " 21  RoofStyle      2919 non-null   object \n",
            " 22  RoofMatl       2919 non-null   object \n",
            " 23  Exterior1st    2918 non-null   object \n",
            " 24  Exterior2nd    2918 non-null   object \n",
            " 25  MasVnrType     2895 non-null   object \n",
            " 26  MasVnrArea     2896 non-null   float64\n",
            " 27  ExterQual      2919 non-null   object \n",
            " 28  ExterCond      2919 non-null   object \n",
            " 29  Foundation     2919 non-null   object \n",
            " 30  BsmtQual       2838 non-null   object \n",
            " 31  BsmtCond       2837 non-null   object \n",
            " 32  BsmtExposure   2837 non-null   object \n",
            " 33  BsmtFinType1   2840 non-null   object \n",
            " 34  BsmtFinSF1     2918 non-null   float64\n",
            " 35  BsmtFinType2   2839 non-null   object \n",
            " 36  BsmtFinSF2     2918 non-null   float64\n",
            " 37  BsmtUnfSF      2918 non-null   float64\n",
            " 38  TotalBsmtSF    2918 non-null   float64\n",
            " 39  Heating        2919 non-null   object \n",
            " 40  HeatingQC      2919 non-null   object \n",
            " 41  CentralAir     2919 non-null   object \n",
            " 42  Electrical     2918 non-null   object \n",
            " 43  1stFlrSF       2919 non-null   int64  \n",
            " 44  2ndFlrSF       2919 non-null   int64  \n",
            " 45  LowQualFinSF   2919 non-null   int64  \n",
            " 46  GrLivArea      2919 non-null   int64  \n",
            " 47  BsmtFullBath   2917 non-null   float64\n",
            " 48  BsmtHalfBath   2917 non-null   float64\n",
            " 49  FullBath       2919 non-null   int64  \n",
            " 50  HalfBath       2919 non-null   int64  \n",
            " 51  BedroomAbvGr   2919 non-null   int64  \n",
            " 52  KitchenAbvGr   2919 non-null   int64  \n",
            " 53  KitchenQual    2918 non-null   object \n",
            " 54  TotRmsAbvGrd   2919 non-null   int64  \n",
            " 55  Functional     2917 non-null   object \n",
            " 56  Fireplaces     2919 non-null   int64  \n",
            " 57  FireplaceQu    1499 non-null   object \n",
            " 58  GarageType     2762 non-null   object \n",
            " 59  GarageYrBlt    2760 non-null   float64\n",
            " 60  GarageFinish   2760 non-null   object \n",
            " 61  GarageCars     2918 non-null   float64\n",
            " 62  GarageArea     2918 non-null   float64\n",
            " 63  GarageQual     2760 non-null   object \n",
            " 64  GarageCond     2760 non-null   object \n",
            " 65  PavedDrive     2919 non-null   object \n",
            " 66  WoodDeckSF     2919 non-null   int64  \n",
            " 67  OpenPorchSF    2919 non-null   int64  \n",
            " 68  EnclosedPorch  2919 non-null   int64  \n",
            " 69  3SsnPorch      2919 non-null   int64  \n",
            " 70  ScreenPorch    2919 non-null   int64  \n",
            " 71  PoolArea       2919 non-null   int64  \n",
            " 72  PoolQC         10 non-null     object \n",
            " 73  Fence          571 non-null    object \n",
            " 74  MiscFeature    105 non-null    object \n",
            " 75  MiscVal        2919 non-null   int64  \n",
            " 76  MoSold         2919 non-null   int64  \n",
            " 77  YrSold         2919 non-null   int64  \n",
            " 78  SaleType       2918 non-null   object \n",
            " 79  SaleCondition  2919 non-null   object \n",
            " 80  SalePrice      1460 non-null   float64\n",
            "dtypes: float64(12), int64(26), object(43)\n",
            "memory usage: 1.8+ MB\n"
          ]
        }
      ]
    },
    {
      "cell_type": "code",
      "metadata": {
        "id": "60z3YlhGDFYM"
      },
      "source": [
        "df = df.drop('SalePrice', axis=1)\n",
        "df = df.drop('Id', axis=1)"
      ],
      "execution_count": 116,
      "outputs": []
    },
    {
      "cell_type": "code",
      "metadata": {
        "id": "v4SYajl-DSTB"
      },
      "source": [
        "def fill_data(data):\n",
        "  data_type = ['int16', 'int32', 'int64', 'float16', 'float32', 'float64']\n",
        "\n",
        "  for i in data.columns:\n",
        "    if data[i].dtype in data_type:\n",
        "      data[i].fillna(data[i].median(), inplace=True)\n",
        "\n",
        "    elif data[i].dtype == 'object':\n",
        "      data[i].fillna('None', inplace=True)\n",
        "\n",
        "  return data"
      ],
      "execution_count": 117,
      "outputs": []
    },
    {
      "cell_type": "code",
      "metadata": {
        "id": "qguWKlJHEVA1"
      },
      "source": [
        "df = fill_data(df)"
      ],
      "execution_count": 118,
      "outputs": []
    },
    {
      "cell_type": "code",
      "metadata": {
        "id": "W_TXvmPXEYD9"
      },
      "source": [
        "df = pd.get_dummies(df)"
      ],
      "execution_count": 119,
      "outputs": []
    },
    {
      "cell_type": "code",
      "metadata": {
        "id": "siY0fgFXEjX3"
      },
      "source": [
        "X = np.array(df)"
      ],
      "execution_count": 120,
      "outputs": []
    },
    {
      "cell_type": "code",
      "metadata": {
        "id": "URkhoYRME5cp"
      },
      "source": [
        "sc_x = StandardScaler()\n",
        "X = sc_x.fit_transform(X)"
      ],
      "execution_count": 121,
      "outputs": []
    },
    {
      "cell_type": "code",
      "metadata": {
        "id": "MWfH9KNcE_XP"
      },
      "source": [
        "X_train = X[:len(train), :]\n",
        "X_test = X[len(train):, :]"
      ],
      "execution_count": 122,
      "outputs": []
    },
    {
      "cell_type": "code",
      "metadata": {
        "colab": {
          "base_uri": "https://localhost:8080/"
        },
        "id": "cr2hkUtkFTF-",
        "outputId": "368e1d20-45b8-472c-8cc5-6f95d259b00d"
      },
      "source": [
        "X_train.shape"
      ],
      "execution_count": 123,
      "outputs": [
        {
          "output_type": "execute_result",
          "data": {
            "text/plain": [
              "(1460, 310)"
            ]
          },
          "metadata": {},
          "execution_count": 123
        }
      ]
    },
    {
      "cell_type": "code",
      "metadata": {
        "id": "8N0elOptFT6-"
      },
      "source": [
        "y = train['SalePrice'].values.reshape(-1, 1)"
      ],
      "execution_count": 124,
      "outputs": []
    },
    {
      "cell_type": "code",
      "metadata": {
        "id": "cd58FHu8FcRu"
      },
      "source": [
        "y = np.log1p(y)"
      ],
      "execution_count": 125,
      "outputs": []
    },
    {
      "cell_type": "code",
      "metadata": {
        "id": "zrdoohDPFhxi"
      },
      "source": [
        "sc_y = StandardScaler()\n",
        "y = sc_y.fit_transform(y)"
      ],
      "execution_count": 126,
      "outputs": []
    },
    {
      "cell_type": "code",
      "metadata": {
        "id": "ci9cg4CqGMez"
      },
      "source": [
        "X_train = X_train.astype(np.float32)\n",
        "y = y.astype(np.float32)"
      ],
      "execution_count": 127,
      "outputs": []
    },
    {
      "cell_type": "code",
      "metadata": {
        "id": "2JNFre05Ful8"
      },
      "source": [
        "train_X, test_X, train_y, test_y = train_test_split(X_train, y, test_size=0.25)"
      ],
      "execution_count": 128,
      "outputs": []
    },
    {
      "cell_type": "code",
      "metadata": {
        "id": "s_E_Cz39FwYG"
      },
      "source": [
        "class Dataset(Dataset):\n",
        "  def __init__(self, X, y):\n",
        "    self.X = X\n",
        "    self.y = y\n",
        "\n",
        "  def __getitem__(self, index):\n",
        "    return self.X[index], self.y[index]\n",
        "\n",
        "  def __len__(self):\n",
        "    return len(self.X)"
      ],
      "execution_count": 129,
      "outputs": []
    },
    {
      "cell_type": "code",
      "metadata": {
        "id": "9X56YuLxGKtb"
      },
      "source": [
        "train_dataset = Dataset(train_X, train_y)\n",
        "test_dataset = Dataset(test_X, test_y)"
      ],
      "execution_count": 130,
      "outputs": []
    },
    {
      "cell_type": "code",
      "metadata": {
        "id": "md9p7qzJGWYR"
      },
      "source": [
        "train_loader = DataLoader(train_dataset, batch_size=32, shuffle=True)\n",
        "test_loader = DataLoader(test_dataset, batch_size=32, shuffle=False)"
      ],
      "execution_count": 131,
      "outputs": []
    },
    {
      "cell_type": "code",
      "metadata": {
        "id": "QTKN-h3kGdwS"
      },
      "source": [
        "class ANN(nn.Module):\n",
        "  def __init__(self, num_input):\n",
        "    super(ANN, self).__init__()\n",
        "    self.fc1 = nn.Linear(num_input, 512)\n",
        "    self.fc2 = nn.Linear(512, 256)\n",
        "    self.fc3 = nn.Linear(256, 128)\n",
        "    self.fc4 = nn.Linear(128, 128)\n",
        "    self.fc5 = nn.Linear(128, 128)\n",
        "    self.fc6 = nn.Linear(128, 1)\n",
        "\n",
        "  def forward(self, X):\n",
        "    X = F.relu(self.fc1(X))\n",
        "    X = F.relu(self.fc2(X))\n",
        "    X = F.relu(self.fc3(X))\n",
        "    X = F.relu(self.fc4(X))\n",
        "    X = F.relu(self.fc5(X))\n",
        "    X = self.fc6(X)\n",
        "    return X"
      ],
      "execution_count": 132,
      "outputs": []
    },
    {
      "cell_type": "code",
      "metadata": {
        "id": "Tj_oznSgGyRA"
      },
      "source": [
        "device = torch.device('cuda' if torch.cuda.is_available() else 'cpu')\n",
        "model = ANN(train_X.shape[1]).to(device)"
      ],
      "execution_count": 133,
      "outputs": []
    },
    {
      "cell_type": "code",
      "metadata": {
        "colab": {
          "base_uri": "https://localhost:8080/"
        },
        "id": "Gk1u6iCNG_Sw",
        "outputId": "4dbfc916-7139-4c79-fd51-2aec069ad802"
      },
      "source": [
        "!pip install madgrad"
      ],
      "execution_count": 134,
      "outputs": [
        {
          "output_type": "stream",
          "name": "stdout",
          "text": [
            "Requirement already satisfied: madgrad in /usr/local/lib/python3.7/dist-packages (1.1)\n"
          ]
        }
      ]
    },
    {
      "cell_type": "code",
      "metadata": {
        "id": "1yDQUucHHBXq"
      },
      "source": [
        "from madgrad import MADGRAD"
      ],
      "execution_count": 135,
      "outputs": []
    },
    {
      "cell_type": "code",
      "metadata": {
        "id": "B-cAuPLbHCq1"
      },
      "source": [
        "criterion = nn.MSELoss()\n",
        "optimizer = MADGRAD(model.parameters())"
      ],
      "execution_count": 136,
      "outputs": []
    },
    {
      "cell_type": "code",
      "metadata": {
        "id": "tvGnD_XhHNeL"
      },
      "source": [
        "def training(num_epochs):\n",
        "  train_losses = np.zeros(num_epochs)\n",
        "  test_losses = np.zeros(num_epochs)\n",
        "\n",
        "  loss_simpan = 100\n",
        "\n",
        "  for i in range(num_epochs):\n",
        "    train_loss = []\n",
        "\n",
        "    for batch_idx, (data, target) in enumerate(train_loader):\n",
        "      optimizer.zero_grad()\n",
        "\n",
        "      data, target = data.to(device), target.to(device)\n",
        "\n",
        "      score = model(data)\n",
        "      loss = criterion(score, target)\n",
        "\n",
        "      loss.backward()\n",
        "      optimizer.step()\n",
        "\n",
        "      train_loss.append(loss.item())\n",
        "\n",
        "    train_losses[i] = np.mean(train_loss)\n",
        "    test_loss = []\n",
        "\n",
        "    for batch_idx, (data, target) in enumerate(test_loader):\n",
        "      data, target = data.to(device), target.to(device)\n",
        "\n",
        "      score = model(data)\n",
        "      loss = criterion(score, target)\n",
        "\n",
        "      test_loss.append(loss.item())\n",
        "\n",
        "    test_losses[i] = np.mean(test_loss)\n",
        "\n",
        "    print(f'Epoch: {i+1}/{num_epochs}, train loss: {np.mean(train_loss):.4f}, test loss: {np.mean(test_loss):.4f}')\n",
        "\n",
        "    if np.mean(test_loss) < loss_simpan:\n",
        "      torch.save({'epoch': i,\n",
        "            'model_state_dict': model.state_dict(),\n",
        "            'optimizer_state_dict': optimizer.state_dict(),\n",
        "            'loss': np.mean(test_loss),\n",
        "            }, 'model.pth')\n",
        "      loss_simpan = np.mean(test_loss)\n",
        "      print('Model Saved')\n",
        "\n",
        "  return train_losses, test_losses"
      ],
      "execution_count": 137,
      "outputs": []
    },
    {
      "cell_type": "code",
      "metadata": {
        "colab": {
          "base_uri": "https://localhost:8080/"
        },
        "id": "75EbmbBBJIOZ",
        "outputId": "1b534f87-4c03-4958-f6bc-13f9fcd299d4"
      },
      "source": [
        "train_losses, test_losses = training(150)"
      ],
      "execution_count": 138,
      "outputs": [
        {
          "output_type": "stream",
          "name": "stdout",
          "text": [
            "Epoch: 1/150, train loss: 0.5510, test loss: 0.1747\n",
            "Model Saved\n",
            "Epoch: 2/150, train loss: 0.2282, test loss: 0.3934\n",
            "Epoch: 3/150, train loss: 0.1933, test loss: 0.2295\n",
            "Epoch: 4/150, train loss: 0.2765, test loss: 0.2919\n",
            "Epoch: 5/150, train loss: 0.2202, test loss: 0.1674\n",
            "Model Saved\n",
            "Epoch: 6/150, train loss: 0.2114, test loss: 0.2059\n",
            "Epoch: 7/150, train loss: 0.1717, test loss: 0.0999\n",
            "Model Saved\n",
            "Epoch: 8/150, train loss: 0.0920, test loss: 0.1578\n",
            "Epoch: 9/150, train loss: 0.1688, test loss: 0.1419\n",
            "Epoch: 10/150, train loss: 0.0943, test loss: 0.1788\n",
            "Epoch: 11/150, train loss: 0.1128, test loss: 0.1305\n",
            "Epoch: 12/150, train loss: 0.0613, test loss: 0.1146\n",
            "Epoch: 13/150, train loss: 0.0745, test loss: 0.1592\n",
            "Epoch: 14/150, train loss: 0.0600, test loss: 0.1284\n",
            "Epoch: 15/150, train loss: 0.0750, test loss: 0.1055\n",
            "Epoch: 16/150, train loss: 0.0657, test loss: 0.1331\n",
            "Epoch: 17/150, train loss: 0.0627, test loss: 0.1239\n",
            "Epoch: 18/150, train loss: 0.0798, test loss: 0.1246\n",
            "Epoch: 19/150, train loss: 0.0585, test loss: 0.1025\n",
            "Epoch: 20/150, train loss: 0.0529, test loss: 0.1098\n",
            "Epoch: 21/150, train loss: 0.0705, test loss: 0.1529\n",
            "Epoch: 22/150, train loss: 0.0510, test loss: 0.0859\n",
            "Model Saved\n",
            "Epoch: 23/150, train loss: 0.0301, test loss: 0.0980\n",
            "Epoch: 24/150, train loss: 0.0246, test loss: 0.0835\n",
            "Model Saved\n",
            "Epoch: 25/150, train loss: 0.0504, test loss: 0.1205\n",
            "Epoch: 26/150, train loss: 0.0413, test loss: 0.0875\n",
            "Epoch: 27/150, train loss: 0.0300, test loss: 0.1071\n",
            "Epoch: 28/150, train loss: 0.0222, test loss: 0.0943\n",
            "Epoch: 29/150, train loss: 0.0307, test loss: 0.1117\n",
            "Epoch: 30/150, train loss: 0.0490, test loss: 0.0942\n",
            "Epoch: 31/150, train loss: 0.0220, test loss: 0.1051\n",
            "Epoch: 32/150, train loss: 0.0232, test loss: 0.1048\n",
            "Epoch: 33/150, train loss: 0.0214, test loss: 0.0921\n",
            "Epoch: 34/150, train loss: 0.0157, test loss: 0.0912\n",
            "Epoch: 35/150, train loss: 0.0139, test loss: 0.1044\n",
            "Epoch: 36/150, train loss: 0.0356, test loss: 0.0962\n",
            "Epoch: 37/150, train loss: 0.0242, test loss: 0.0889\n",
            "Epoch: 38/150, train loss: 0.0175, test loss: 0.1460\n",
            "Epoch: 39/150, train loss: 0.0270, test loss: 0.0965\n",
            "Epoch: 40/150, train loss: 0.0224, test loss: 0.0908\n",
            "Epoch: 41/150, train loss: 0.0158, test loss: 0.1004\n",
            "Epoch: 42/150, train loss: 0.0236, test loss: 0.1339\n",
            "Epoch: 43/150, train loss: 0.0226, test loss: 0.0982\n",
            "Epoch: 44/150, train loss: 0.0187, test loss: 0.1208\n",
            "Epoch: 45/150, train loss: 0.0398, test loss: 0.4061\n",
            "Epoch: 46/150, train loss: 0.1257, test loss: 0.1476\n",
            "Epoch: 47/150, train loss: 0.0612, test loss: 0.1210\n",
            "Epoch: 48/150, train loss: 0.0399, test loss: 0.0931\n",
            "Epoch: 49/150, train loss: 0.0423, test loss: 0.1548\n",
            "Epoch: 50/150, train loss: 0.0332, test loss: 0.1539\n",
            "Epoch: 51/150, train loss: 0.0753, test loss: 0.1079\n",
            "Epoch: 52/150, train loss: 0.0301, test loss: 0.0938\n",
            "Epoch: 53/150, train loss: 0.0224, test loss: 0.0962\n",
            "Epoch: 54/150, train loss: 0.0311, test loss: 0.1177\n",
            "Epoch: 55/150, train loss: 0.0355, test loss: 0.1069\n",
            "Epoch: 56/150, train loss: 0.0171, test loss: 0.0848\n",
            "Epoch: 57/150, train loss: 0.0173, test loss: 0.0928\n",
            "Epoch: 58/150, train loss: 0.0251, test loss: 0.1176\n",
            "Epoch: 59/150, train loss: 0.0194, test loss: 0.1084\n",
            "Epoch: 60/150, train loss: 0.0179, test loss: 0.0891\n",
            "Epoch: 61/150, train loss: 0.0112, test loss: 0.0894\n",
            "Epoch: 62/150, train loss: 0.0123, test loss: 0.0802\n",
            "Model Saved\n",
            "Epoch: 63/150, train loss: 0.0086, test loss: 0.0831\n",
            "Epoch: 64/150, train loss: 0.0056, test loss: 0.0831\n",
            "Epoch: 65/150, train loss: 0.0038, test loss: 0.0843\n",
            "Epoch: 66/150, train loss: 0.0043, test loss: 0.0870\n",
            "Epoch: 67/150, train loss: 0.0085, test loss: 0.0916\n",
            "Epoch: 68/150, train loss: 0.0071, test loss: 0.0908\n",
            "Epoch: 69/150, train loss: 0.0051, test loss: 0.0830\n",
            "Epoch: 70/150, train loss: 0.0040, test loss: 0.0841\n",
            "Epoch: 71/150, train loss: 0.0044, test loss: 0.0894\n",
            "Epoch: 72/150, train loss: 0.0051, test loss: 0.0916\n",
            "Epoch: 73/150, train loss: 0.0037, test loss: 0.0876\n",
            "Epoch: 74/150, train loss: 0.0028, test loss: 0.0870\n",
            "Epoch: 75/150, train loss: 0.0035, test loss: 0.0845\n",
            "Epoch: 76/150, train loss: 0.0034, test loss: 0.0870\n",
            "Epoch: 77/150, train loss: 0.0030, test loss: 0.0853\n",
            "Epoch: 78/150, train loss: 0.0036, test loss: 0.0867\n",
            "Epoch: 79/150, train loss: 0.0022, test loss: 0.0868\n",
            "Epoch: 80/150, train loss: 0.0016, test loss: 0.0877\n",
            "Epoch: 81/150, train loss: 0.0019, test loss: 0.0859\n",
            "Epoch: 82/150, train loss: 0.0013, test loss: 0.0865\n",
            "Epoch: 83/150, train loss: 0.0013, test loss: 0.0859\n",
            "Epoch: 84/150, train loss: 0.0013, test loss: 0.0863\n",
            "Epoch: 85/150, train loss: 0.0012, test loss: 0.0865\n",
            "Epoch: 86/150, train loss: 0.0014, test loss: 0.0858\n",
            "Epoch: 87/150, train loss: 0.0012, test loss: 0.0890\n",
            "Epoch: 88/150, train loss: 0.0013, test loss: 0.0866\n",
            "Epoch: 89/150, train loss: 0.0012, test loss: 0.0869\n",
            "Epoch: 90/150, train loss: 0.0012, test loss: 0.0853\n",
            "Epoch: 91/150, train loss: 0.0015, test loss: 0.0864\n",
            "Epoch: 92/150, train loss: 0.0011, test loss: 0.0865\n",
            "Epoch: 93/150, train loss: 0.0012, test loss: 0.0865\n",
            "Epoch: 94/150, train loss: 0.0011, test loss: 0.0883\n",
            "Epoch: 95/150, train loss: 0.0035, test loss: 0.0865\n",
            "Epoch: 96/150, train loss: 0.0028, test loss: 0.0883\n",
            "Epoch: 97/150, train loss: 0.0023, test loss: 0.0862\n",
            "Epoch: 98/150, train loss: 0.0049, test loss: 0.0910\n",
            "Epoch: 99/150, train loss: 0.0041, test loss: 0.0872\n",
            "Epoch: 100/150, train loss: 0.0044, test loss: 0.0896\n",
            "Epoch: 101/150, train loss: 0.0032, test loss: 0.0873\n",
            "Epoch: 102/150, train loss: 0.0030, test loss: 0.0864\n",
            "Epoch: 103/150, train loss: 0.0030, test loss: 0.0890\n",
            "Epoch: 104/150, train loss: 0.0052, test loss: 0.0885\n",
            "Epoch: 105/150, train loss: 0.0044, test loss: 0.0856\n",
            "Epoch: 106/150, train loss: 0.0040, test loss: 0.0850\n",
            "Epoch: 107/150, train loss: 0.0061, test loss: 0.0911\n",
            "Epoch: 108/150, train loss: 0.0103, test loss: 0.0999\n",
            "Epoch: 109/150, train loss: 0.0095, test loss: 0.0886\n",
            "Epoch: 110/150, train loss: 0.0049, test loss: 0.0888\n",
            "Epoch: 111/150, train loss: 0.0054, test loss: 0.0864\n",
            "Epoch: 112/150, train loss: 0.0113, test loss: 0.0862\n",
            "Epoch: 113/150, train loss: 0.0136, test loss: 0.0941\n",
            "Epoch: 114/150, train loss: 0.0107, test loss: 0.0894\n",
            "Epoch: 115/150, train loss: 0.0073, test loss: 0.0840\n",
            "Epoch: 116/150, train loss: 0.0093, test loss: 0.0888\n",
            "Epoch: 117/150, train loss: 0.0069, test loss: 0.0876\n",
            "Epoch: 118/150, train loss: 0.0065, test loss: 0.0913\n",
            "Epoch: 119/150, train loss: 0.0055, test loss: 0.0870\n",
            "Epoch: 120/150, train loss: 0.0044, test loss: 0.0875\n",
            "Epoch: 121/150, train loss: 0.0034, test loss: 0.0955\n",
            "Epoch: 122/150, train loss: 0.0371, test loss: 0.0977\n",
            "Epoch: 123/150, train loss: 0.0199, test loss: 0.1159\n",
            "Epoch: 124/150, train loss: 0.0182, test loss: 0.1127\n",
            "Epoch: 125/150, train loss: 0.0180, test loss: 0.0932\n",
            "Epoch: 126/150, train loss: 0.0180, test loss: 0.0935\n",
            "Epoch: 127/150, train loss: 0.0349, test loss: 0.1231\n",
            "Epoch: 128/150, train loss: 0.1927, test loss: 0.1875\n",
            "Epoch: 129/150, train loss: 0.8511, test loss: 0.8554\n",
            "Epoch: 130/150, train loss: 2.5879, test loss: 1.0299\n",
            "Epoch: 131/150, train loss: 0.9129, test loss: 1.2040\n",
            "Epoch: 132/150, train loss: 0.9121, test loss: 0.8609\n",
            "Epoch: 133/150, train loss: 0.8907, test loss: 0.9178\n",
            "Epoch: 134/150, train loss: 0.9077, test loss: 1.0368\n",
            "Epoch: 135/150, train loss: 0.9010, test loss: 0.9069\n",
            "Epoch: 136/150, train loss: 0.8545, test loss: 0.8780\n",
            "Epoch: 137/150, train loss: 0.8203, test loss: 0.9358\n",
            "Epoch: 138/150, train loss: 0.8285, test loss: 0.8341\n",
            "Epoch: 139/150, train loss: 0.8208, test loss: 0.8017\n",
            "Epoch: 140/150, train loss: 0.7654, test loss: 0.7665\n",
            "Epoch: 141/150, train loss: 0.8058, test loss: 0.9022\n",
            "Epoch: 142/150, train loss: 0.7828, test loss: 0.8499\n",
            "Epoch: 143/150, train loss: 0.7645, test loss: 0.7771\n",
            "Epoch: 144/150, train loss: 0.7624, test loss: 0.7727\n",
            "Epoch: 145/150, train loss: 0.7610, test loss: 0.7717\n",
            "Epoch: 146/150, train loss: 0.7571, test loss: 0.8064\n",
            "Epoch: 147/150, train loss: 0.7547, test loss: 0.7693\n",
            "Epoch: 148/150, train loss: 0.7698, test loss: 0.8199\n",
            "Epoch: 149/150, train loss: 0.7856, test loss: 0.8104\n",
            "Epoch: 150/150, train loss: 0.7724, test loss: 0.7673\n"
          ]
        }
      ]
    },
    {
      "cell_type": "code",
      "metadata": {
        "colab": {
          "base_uri": "https://localhost:8080/",
          "height": 282
        },
        "id": "88hq0He8JMi2",
        "outputId": "8be55402-b9be-432d-80d0-78fcd95d59f4"
      },
      "source": [
        "plt.plot(train_losses, label='Train Losses')\n",
        "plt.plot(test_losses, label='Test Losses')\n",
        "plt.legend()"
      ],
      "execution_count": 139,
      "outputs": [
        {
          "output_type": "execute_result",
          "data": {
            "text/plain": [
              "<matplotlib.legend.Legend at 0x7f889bf8b810>"
            ]
          },
          "metadata": {},
          "execution_count": 139
        },
        {
          "output_type": "display_data",
          "data": {
            "image/png": "[encoded data removed]",
            "text/plain": [
              "<Figure size 432x288 with 1 Axes>"
            ]
          },
          "metadata": {
            "needs_background": "light"
          }
        }
      ]
    },
    {
      "cell_type": "code",
      "metadata": {
        "id": "Y7ZuBPULKgsK"
      },
      "source": [
        "model = ANN(train_X.shape[1]).to(device)\n",
        "\n",
        "criterion = nn.MSELoss()\n",
        "optimizer = MADGRAD(model.parameters())\n",
        "\n",
        "checkpoint = torch.load('model.pth')\n",
        "model.load_state_dict(checkpoint['model_state_dict'])\n",
        "optimizer.load_state_dict(checkpoint['optimizer_state_dict'])\n",
        "epoch = checkpoint['epoch']\n",
        "loss = checkpoint['loss']"
      ],
      "execution_count": 141,
      "outputs": []
    },
    {
      "cell_type": "code",
      "metadata": {
        "id": "qRXHFP8XKrm5"
      },
      "source": [
        "def get_pred(data):\n",
        "  model.eval()\n",
        "\n",
        "  with torch.no_grad():\n",
        "    \n",
        "    score = model(data)\n",
        "\n",
        "    return score.cpu().numpy()"
      ],
      "execution_count": 142,
      "outputs": []
    },
    {
      "cell_type": "code",
      "metadata": {
        "id": "yEt8OmiJK6Rr"
      },
      "source": [
        "pred = get_pred(torch.from_numpy(test_X).to(device))"
      ],
      "execution_count": 144,
      "outputs": []
    },
    {
      "cell_type": "code",
      "metadata": {
        "id": "hxA01bjfK-bR"
      },
      "source": [
        "from sklearn.metrics import r2_score"
      ],
      "execution_count": 145,
      "outputs": []
    },
    {
      "cell_type": "code",
      "metadata": {
        "colab": {
          "base_uri": "https://localhost:8080/"
        },
        "id": "JA0TWsMzLGFb",
        "outputId": "256cb0e2-a0d0-4619-c6fb-2f19c37ae39d"
      },
      "source": [
        "r2_score(test_y, pred)"
      ],
      "execution_count": 146,
      "outputs": [
        {
          "output_type": "execute_result",
          "data": {
            "text/plain": [
              "0.9162417706631605"
            ]
          },
          "metadata": {},
          "execution_count": 146
        }
      ]
    },
    {
      "cell_type": "code",
      "metadata": {
        "id": "S6PnHO6sLV50"
      },
      "source": [
        "X_test = X_test.astype(np.float32)"
      ],
      "execution_count": 148,
      "outputs": []
    },
    {
      "cell_type": "code",
      "metadata": {
        "colab": {
          "base_uri": "https://localhost:8080/"
        },
        "id": "O6j6N0SnLJKE",
        "outputId": "b43da408-0657-4988-b075-a1ce8793c9b1"
      },
      "source": [
        "score_pred = get_pred(torch.from_numpy(X_test).to(device))\n",
        "score_pred"
      ],
      "execution_count": 149,
      "outputs": [
        {
          "output_type": "execute_result",
          "data": {
            "text/plain": [
              "array([[-0.53980315],\n",
              "       [-0.13009965],\n",
              "       [ 0.352833  ],\n",
              "       ...,\n",
              "       [ 0.17225116],\n",
              "       [-0.7790084 ],\n",
              "       [ 0.5444818 ]], dtype=float32)"
            ]
          },
          "metadata": {},
          "execution_count": 149
        }
      ]
    },
    {
      "cell_type": "code",
      "metadata": {
        "id": "1eCoVYJBLUcG"
      },
      "source": [
        "score_pred = sc_y.inverse_transform(score_pred)\n",
        "score_pred = np.expm1(score_pred)"
      ],
      "execution_count": 150,
      "outputs": []
    },
    {
      "cell_type": "code",
      "metadata": {
        "id": "ZpkROO5oLeT4"
      },
      "source": [
        "score_pred = score_pred*1.001619"
      ],
      "execution_count": 152,
      "outputs": []
    },
    {
      "cell_type": "code",
      "metadata": {
        "id": "25ONuc8FMAdr"
      },
      "source": [
        "score_pred = score_pred.reshape(-1, )"
      ],
      "execution_count": 156,
      "outputs": []
    },
    {
      "cell_type": "code",
      "metadata": {
        "id": "RuAsHUV3LfHf"
      },
      "source": [
        "submission = pd.DataFrame({'Id': test['Id'], 'SalePrice':score_pred})"
      ],
      "execution_count": 157,
      "outputs": []
    },
    {
      "cell_type": "code",
      "metadata": {
        "colab": {
          "base_uri": "https://localhost:8080/",
          "height": 419
        },
        "id": "cZ2HW82ALzsh",
        "outputId": "0bda0c04-1b03-43b4-be1f-5dc41d7e3f18"
      },
      "source": [
        "submission"
      ],
      "execution_count": 158,
      "outputs": [
        {
          "output_type": "execute_result",
          "data": {
            "text/html": [
              "<div>\n",
              "<style scoped>\n",
              "    .dataframe tbody tr th:only-of-type {\n",
              "        vertical-align: middle;\n",
              "    }\n",
              "\n",
              "    .dataframe tbody tr th {\n",
              "        vertical-align: top;\n",
              "    }\n",
              "\n",
              "    .dataframe thead th {\n",
              "        text-align: right;\n",
              "    }\n",
              "</style>\n",
              "<table border=\"1\" class=\"dataframe\">\n",
              "  <thead>\n",
              "    <tr style=\"text-align: right;\">\n",
              "      <th></th>\n",
              "      <th>Id</th>\n",
              "      <th>SalePrice</th>\n",
              "    </tr>\n",
              "  </thead>\n",
              "  <tbody>\n",
              "    <tr>\n",
              "      <th>0</th>\n",
              "      <td>1461</td>\n",
              "      <td>134607.343750</td>\n",
              "    </tr>\n",
              "    <tr>\n",
              "      <th>1</th>\n",
              "      <td>1462</td>\n",
              "      <td>158533.046875</td>\n",
              "    </tr>\n",
              "    <tr>\n",
              "      <th>2</th>\n",
              "      <td>1463</td>\n",
              "      <td>192251.734375</td>\n",
              "    </tr>\n",
              "    <tr>\n",
              "      <th>3</th>\n",
              "      <td>1464</td>\n",
              "      <td>198385.515625</td>\n",
              "    </tr>\n",
              "    <tr>\n",
              "      <th>4</th>\n",
              "      <td>1465</td>\n",
              "      <td>191543.671875</td>\n",
              "    </tr>\n",
              "    <tr>\n",
              "      <th>...</th>\n",
              "      <td>...</td>\n",
              "      <td>...</td>\n",
              "    </tr>\n",
              "    <tr>\n",
              "      <th>1454</th>\n",
              "      <td>2915</td>\n",
              "      <td>95285.890625</td>\n",
              "    </tr>\n",
              "    <tr>\n",
              "      <th>1455</th>\n",
              "      <td>2916</td>\n",
              "      <td>89168.703125</td>\n",
              "    </tr>\n",
              "    <tr>\n",
              "      <th>1456</th>\n",
              "      <td>2917</td>\n",
              "      <td>178876.562500</td>\n",
              "    </tr>\n",
              "    <tr>\n",
              "      <th>1457</th>\n",
              "      <td>2918</td>\n",
              "      <td>122344.890625</td>\n",
              "    </tr>\n",
              "    <tr>\n",
              "      <th>1458</th>\n",
              "      <td>2919</td>\n",
              "      <td>207541.984375</td>\n",
              "    </tr>\n",
              "  </tbody>\n",
              "</table>\n",
              "<p>1459 rows × 2 columns</p>\n",
              "</div>"
            ],
            "text/plain": [
              "        Id      SalePrice\n",
              "0     1461  134607.343750\n",
              "1     1462  158533.046875\n",
              "2     1463  192251.734375\n",
              "3     1464  198385.515625\n",
              "4     1465  191543.671875\n",
              "...    ...            ...\n",
              "1454  2915   95285.890625\n",
              "1455  2916   89168.703125\n",
              "1456  2917  178876.562500\n",
              "1457  2918  122344.890625\n",
              "1458  2919  207541.984375\n",
              "\n",
              "[1459 rows x 2 columns]"
            ]
          },
          "metadata": {},
          "execution_count": 158
        }
      ]
    },
    {
      "cell_type": "code",
      "metadata": {
        "id": "8g_IuIOHMFb4"
      },
      "source": [
        "submission.to_csv('submission.csv', index=False)"
      ],
      "execution_count": 159,
      "outputs": []
    },
    {
      "cell_type": "code",
      "metadata": {
        "id": "KxJesWnvMLcl"
      },
      "source": [
        ""
      ],
      "execution_count": null,
      "outputs": []
    }
  ]
}